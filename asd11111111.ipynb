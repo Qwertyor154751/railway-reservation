{
 "cells": [
  {
   "cell_type": "code",
   "execution_count": 1,
   "metadata": {},
   "outputs": [],
   "source": [
    "import functools as fun\n",
    "import random as rmd"
   ]
  },
  {
   "cell_type": "code",
   "execution_count": 2,
   "metadata": {},
   "outputs": [],
   "source": [
    "#start destination\\t a1 \\t a2 \\t sl\n",
    "#route matrix is the adjcent stations"
   ]
  },
  {
   "cell_type": "code",
   "execution_count": 3,
   "metadata": {},
   "outputs": [],
   "source": [
    "def print_info(message, end = '\\n'):\n",
    "        sys.stdout.write('\\x1b[1;34m' + message.strip() + '\\x1b[0m' + end)"
   ]
  },
  {
   "cell_type": "code",
   "execution_count": 4,
   "metadata": {},
   "outputs": [],
   "source": [
    "def print_bold(message, end = '\\n'):\n",
    "        sys.stdout.write('\\x1b[1;37m' + message.strip() + '\\x1b[0m' + end)"
   ]
  },
  {
   "cell_type": "code",
   "execution_count": 5,
   "metadata": {},
   "outputs": [],
   "source": [
    "def print_green(message, end = '\\n'):\n",
    "        print('\\x1b[1;32m' + message.strip() + '\\x1b[0m' + end)"
   ]
  },
  {
   "cell_type": "code",
   "execution_count": 6,
   "metadata": {},
   "outputs": [],
   "source": [
    " def print_yellow(message, end = '\\n'):\n",
    "        sys.stderr.write('\\x1b[1;33m' + message.strip() + '\\x1b[0m' + end)"
   ]
  },
  {
   "cell_type": "code",
   "execution_count": 7,
   "metadata": {},
   "outputs": [],
   "source": [
    "def print_red(message, end = '\\n'):\n",
    "        print('\\x1b[1;31m' + message.strip() + '\\x1b[0m' + end)"
   ]
  },
  {
   "cell_type": "code",
   "execution_count": 8,
   "metadata": {},
   "outputs": [],
   "source": [
    "def times(start,no):\n",
    "    if start in line[\"r1\"]:\n",
    "        q=10\n",
    "        r=line[\"r1\"].index(start)\n",
    "    else:\n",
    "        q=11\n",
    "        r=line[\"r2\"].index(start)\n",
    "    return q+r\n",
    "    "
   ]
  },
  {
   "cell_type": "code",
   "execution_count": 9,
   "metadata": {},
   "outputs": [],
   "source": [
    "def seat_selection(q,number,stop):\n",
    "    g=open ('asd.txt','r')\n",
    "    c=g.readlines()\n",
    "    g.close()\n",
    "    seats=[]\n",
    "    for i in range(len(c)):\n",
    "        if c[i].split(\"\\t\")[0]==stop:\n",
    "            a=c[i].split(\"\\t\")[q]\n",
    "            a=a.split()\n",
    "            a.sort()\n",
    "            for i in range (number):\n",
    "                seats.append(a.pop(i))\n",
    "    return seats"
   ]
  },
  {
   "cell_type": "code",
   "execution_count": 10,
   "metadata": {},
   "outputs": [],
   "source": [
    "def seat_update(seats,q,route,op):\n",
    "    g=open ('train.txt','r')\n",
    "    c=g.readlines()\n",
    "    g.close()\n",
    "    for i in range(len(c)):\n",
    "        if c[i].split(\"\\t\")[0] in route:\n",
    "            a=c[i].split(\"\\t\")[q]\n",
    "            a=set(a.split())\n",
    "            b=set(seats)\n",
    "            if op==\"remove\":\n",
    "                a=a-b\n",
    "            else:\n",
    "                a=a|b\n",
    "            k=\"\"\n",
    "            for f in list(a):\n",
    "                k=k+f+\" \"\n",
    "            if q==1:\n",
    "                c[i]=c[i].split(\"\\t\")[0]+\"\\t\"+k+\"\\t\"+c[i].split(\"\\t\")[2]+\"\\t\"+c[i].split(\"\\t\")[3]+\"\\n\"\n",
    "            elif q==2:\n",
    "                c[i]=c[i].split(\"\\t\")[0]+\"\\t\"+c[i].split(\"\\t\")[1]+\"\\t\"+k+\"\\t\"+c[i].split(\"\\t\")[3]+\"\\n\"\n",
    "            elif q==3:\n",
    "                c[i]=c[i].split(\"\\t\")[0]+\"\\t\"+c[i].split(\"\\t\")[1]+\"\\t\"+c[i].split(\"\\t\")[2]+\"\\t\"+k+\"\\n\"\n",
    "            print(c[i])\n",
    "    g=open ('train.txt','w')\n",
    "    for i in c:\n",
    "        \n",
    "        g.write(i)\n",
    "    g.close()"
   ]
  },
  {
   "cell_type": "code",
   "execution_count": 11,
   "metadata": {},
   "outputs": [],
   "source": [
    "def availability(s,l):#location of the available seats\n",
    "    t=open('train.txt','r')\n",
    "    a=[]\n",
    "    b=[]\n",
    "    c=[]\n",
    "    for i in range(1,25):\n",
    "        a.append('A1'+str(i))\n",
    "        b.append('A2'+str(i))\n",
    "        c.append('SL'+str(i))\n",
    "    for i in t.readlines():\n",
    "        if l==i.split('\\t')[0]:\n",
    "            x=i.split(\"\\t\")[s].split()\n",
    "    \n",
    "    def asd(a,x):\n",
    "        w=0\n",
    "        for d in range(6):\n",
    "            for j in range(2):\n",
    "                for i in range(2):\n",
    "                    if a[w] in x:\n",
    "                        print_red(a[w],\"\\t\",end=\"\")\n",
    "                    else :\n",
    "                        print_green(a[w],\"\\t\",end=\"\")\n",
    "                    s=s+1\n",
    "                print(\"\\t\\t\",end=\"\")\n",
    "            print()\n",
    "    if s==1:\n",
    "        asd(a,x)\n",
    "    elif s==2:\n",
    "        asd(b,x)\n",
    "    elif s==3:\n",
    "        asd(c,x)\n",
    "    t.close()"
   ]
  },
  {
   "cell_type": "code",
   "execution_count": 12,
   "metadata": {},
   "outputs": [],
   "source": [
    "def check_seat_availabilty(q,x):#shows the number of seats remaining in the perticular class of the route matrix\n",
    "    t=open('train.txt','r')\n",
    "    a=[]\n",
    "    c=200\n",
    "    for i in t.readlines():\n",
    "        if i.split('\\t')[0] in x:\n",
    "            b=len(i.split('\\t')[q].split())\n",
    "            if c>b:\n",
    "                c=b\n",
    "                x=i.split('\\t')[0]\n",
    "            a.append(b)\n",
    "    t.close()\n",
    "    availability(q,x)\n",
    "    return min(a),x"
   ]
  },
  {
   "cell_type": "code",
   "execution_count": 13,
   "metadata": {},
   "outputs": [],
   "source": [
    "def zxc(a,control):# gives the route matrix\n",
    "    def asd(a,b,c):\n",
    "        x=[]\n",
    "        if a==b and control==1:\n",
    "            print_red(\"\\t\\tERROR\\nthe entered start point and destination is the same\")\n",
    "            book_ticket()\n",
    "        elif a==b and control==0:\n",
    "            print_red(\"\\t\\tERROR\\nthe entered start point and destination is the same\")\n",
    "            menu()\n",
    "        elif a<b:\n",
    "            for i in range(a,b-1):\n",
    "                s=c[i]+c[i+1]\n",
    "                x.append(s)\n",
    "        elif a>b:\n",
    "            for i in range(a,b,-1):\n",
    "                s=c[i]+c[i-1]\n",
    "                x.append(s)\n",
    "        return x\n",
    "    line={\"r1\":[\"s1\",\"s2\",\"s3\",\"s4\",\"s5\"],\"r2\":[\"d1\",\"d2\",\"s3\",\"d3\",\"d4\"]}\n",
    "    if a[0]in line['r1'] and a[1]in line['r1']:\n",
    "        x=line['r1'].index(a[0])\n",
    "        y=line['r1'].index(a[1])\n",
    "        e=asd(x,y,line['r1'])\n",
    "    elif a[0]in line['r2'] and a[1]in line['r2']:\n",
    "        x=line['r2'].index(a[0])\n",
    "        y=line['r2'].index(a[1])\n",
    "        e=asd(x,y,line['r2'])\n",
    "    elif a[0]in line['r1'] and a[1]in line['r2']:\n",
    "        x=line['r1'].index(a[0])\n",
    "        y=line['r2'].index(a[1])\n",
    "        e=asd(x,2,line['r1']) \n",
    "        e.extend(asd(2,y,line['r2']))\n",
    "    elif a[0]in line['r2'] and a[1]in line['r1']:\n",
    "        x=line['r2'].index(a[0])\n",
    "        y=line['r1'].index(a[1])\n",
    "        e=asd(x,2,line['r2']) \n",
    "        e.extend(asd(2,y,line['r1']))\n",
    "    return e"
   ]
  },
  {
   "cell_type": "code",
   "execution_count": 14,
   "metadata": {},
   "outputs": [],
   "source": [
    "def details():\n",
    "    try:\n",
    "        name=input(\"enter your name\\n\")\n",
    "        contact=int(input(\"enter a contact number\"))\n",
    "    except ValueError:\n",
    "        print_red(\"invalid input\")\n",
    "        details()\n",
    "    return name,contact"
   ]
  },
  {
   "cell_type": "code",
   "execution_count": 15,
   "metadata": {},
   "outputs": [],
   "source": [
    "def fared(x,a):# calculates the fare x=routematrix a =class\n",
    "    t=400\n",
    "    d=50\n",
    "    for i in x:\n",
    "        d=d+(d*110/100)\n",
    "    if a==1:\n",
    "        return (t+d)*1\n",
    "    elif a==2:\n",
    "        return (t+d)*1.25\n",
    "    elif a==3 :\n",
    "        return (t+d)*2,len(x)"
   ]
  },
  {
   "cell_type": "code",
   "execution_count": 16,
   "metadata": {},
   "outputs": [],
   "source": [
    "def selects(q):#seat class and quantity\n",
    "    print(\"three classes of seats are aviable :\\n1.A1\\n2.A2\\n3.SL\")\n",
    "    try:\n",
    "        a=int(input(\"enter your choice\\n\"))\n",
    "    except ValueError:\n",
    "        print_red(\"ERROR   INVALID INPUT\")\n",
    "        selects(q)\n",
    "    if a!=1 and a!=2 and a!=3:\n",
    "        print_yellow(\"that option is not aviable\")\n",
    "        selects(q)\n",
    "    try:\n",
    "        s=int(input(\"enter the number of seats to be booked\\n\"))\n",
    "    except ValueError:\n",
    "        print_red(\"ERROR   INVALID INPUT\")\n",
    "        selects(q)\n",
    "    print_green(\"the no of seates remaining are : \",check_seat_availabilty(a,q)[0],end=\"\\n\")\n",
    "    if s>check_seat_availabilty(a,q)[0]:\n",
    "        print_yellow(\"the aviable seats are less than the number of seats to be booked\")\n",
    "        print_yellow(\"please check in the other catogories\")\n",
    "        selects(q)\n",
    "    return a,s,check_seat_availabilty(a,q)[1]\n",
    "    \n",
    "    "
   ]
  },
  {
   "cell_type": "code",
   "execution_count": 17,
   "metadata": {},
   "outputs": [],
   "source": [
    "def option_tic():# asks the route\n",
    "    global line \n",
    "    line={\"r1\":[\"s1\",\"s2\",\"s3\",\"s4\",\"s5\"],\"r2\":[\"d1\",\"d2\",\"s3\",\"d3\",\"d4\"]}\n",
    "    w=1\n",
    "    for i in line:\n",
    "        for j in line[i]:\n",
    "            if j!='s3'and i =='r2':\n",
    "                continue\n",
    "            else:\n",
    "                print(\"\\t\",w,\".\",j,sep=\"\")\n",
    "            w=w+1\n",
    "    try:\n",
    "        s=int(input(\"enter the starting location\\n\"))\n",
    "        d=int(input(\"enter the destination location\\n\"))\n",
    "    except ValueError:\n",
    "        print(\"\\n\\nPlease enter a valid option.\\n\\n\")\n",
    "        option_tic()\n",
    "    return (s,d)"
   ]
  },
  {
   "cell_type": "code",
   "execution_count": 18,
   "metadata": {},
   "outputs": [],
   "source": [
    "def credit():\n",
    "    try:\n",
    "        no=int(input(\"enter your 16 digit credit card no\\n\"))\n",
    "        cvv=int(input(\"enter cvv number\"))\n",
    "    except ValueError:\n",
    "        print(\"invalid input\")\n",
    "        details()\n",
    "    return no,cvv"
   ]
  },
  {
   "cell_type": "code",
   "execution_count": 19,
   "metadata": {},
   "outputs": [],
   "source": [
    "def book_ticket():#book ticket display of ticket remaining\n",
    "    s=option_tic()\n",
    "    def asd(a):\n",
    "        if a<=5:\n",
    "            return line['r1'][a-1]\n",
    "        else:\n",
    "            return line['r2'][a-5]\n",
    "    sd_tuple=(asd(s[0]),asd(s[1]))\n",
    "    matrix=zxc(sd_tuple,1)\n",
    "    seat_class_quantity_stop=selects(matrix)\n",
    "    seat=seat_selection(seat_class_quantity_stop[0],seat_class_quantity_stop[1],seat_class_quantity_stop[2])\n",
    "    seat_update(seat,seat_class_quantity_stop[0],matrix,\"remove\")\n",
    "    fare,stops=fared(matrix,seat_class_quantity_stop[0])\n",
    "    while True:\n",
    "        print_green(\"choose the methord of payment\\n1.credit card\\n2.cash\")\n",
    "        try:\n",
    "            a=int(input(\"enter your option\"))\n",
    "            if a!=1 or a!=2:\n",
    "                continue\n",
    "            else:\n",
    "                break\n",
    "        except ValueError:\n",
    "            continue\n",
    "    if a==1:\n",
    "        z,x=credit()\n",
    "    name,contact=details()\n",
    "            \n",
    "    "
   ]
  },
  {
   "cell_type": "code",
   "execution_count": 20,
   "metadata": {},
   "outputs": [],
   "source": [
    "def confirmed(s,name,fare,Q):#adds a new log to the logs.txt file\n",
    "    f= open (\"logs.txt\",'a')\n",
    "    pnr=rmd.randrange(100000000,1000000000)\n",
    "    a=str(p)+\"\\t\"+name+\"\\t\"+fun.reduce(lambda x,y:x+\" \"+y,s)+\"\\t\"+fare+\"\\t\"+Q[0]+\" \"+Q[1]+\"\\n\"\n",
    "    f.write(a)\n",
    "    f.close()\n",
    "    return pnr"
   ]
  },
  {
   "cell_type": "code",
   "execution_count": 21,
   "metadata": {},
   "outputs": [],
   "source": [
    "def check(p,x):#checks pnr number\n",
    "    for i in range(len(x)):\n",
    "        if x[i][0:10]==p:\n",
    "            return (True,i)\n",
    "    return (False,0)"
   ]
  },
  {
   "cell_type": "code",
   "execution_count": 22,
   "metadata": {},
   "outputs": [],
   "source": [
    "def cancelation(pnr):\n",
    "    f= open (\"logs.txt\",'r')\n",
    "    g=f.readlines()\n",
    "    if check(pnr,g)[0]:\n",
    "        a=g.pop(check(pnr,g)[1])\n",
    "        f= open (\"logs.txt\",'w')\n",
    "        for i in g:\n",
    "            f.write(i)\n",
    "    else :\n",
    "        print_red(\"The ID entered is not recognised\")\n",
    "        f.close()\n",
    "        cancel_ticket()\n",
    "    f.close()\n",
    "    start=a.split(\"\\t\")[4]\n",
    "    stop=a.split(\"\\t\")[5]\n",
    "    a=a.split(\"\\t\")[3]\n",
    "    a=a.split()\n",
    "    return a,start,stop\n",
    "        "
   ]
  },
  {
   "cell_type": "code",
   "execution_count": 23,
   "metadata": {},
   "outputs": [],
   "source": [
    "def check_booking():\n",
    "    a=input(\"enter the pnr number \\n\")\n",
    "    f= open (\"logs.txt\",'r')\n",
    "    g=f.readlines()\n",
    "    if check(a,g)[0]:\n",
    "        f.close()\n",
    "        z,x,c,v,start,stop=g[check(a,g)[1]].split(\"\\t\")\n",
    "        c1=''\n",
    "        for i in c.split():\n",
    "            c1=c1+i+\" \"\n",
    "        print(\"your pnr number     :  \",a)\n",
    "        print(\"name                :  \",x)\n",
    "        print(\"start point         :  \",start)\n",
    "        print(\"destination         :  \",stop)\n",
    "        print(\"the seates selected :  \",c1)\n",
    "        print(\"total fare          :  \",v)\n",
    "    else :\n",
    "        check_booking()\n",
    "    f.close()"
   ]
  },
  {
   "cell_type": "code",
   "execution_count": 25,
   "metadata": {},
   "outputs": [],
   "source": [
    "def cancel_ticket():\n",
    "    try:\n",
    "        pnr=int(input(\"enter the pnr number\\n\"))\n",
    "    except ValueError:\n",
    "        print(\"invalid input\")\n",
    "        cancel_ticket()\n",
    "    seats,start,stop=cancelation(pnr)\n",
    "    matrix=zxc((start,stop),0)\n",
    "    if seats[0][:2]==\"A1\":\n",
    "        q=1\n",
    "    elif seats[0][:2]==\"A2\":\n",
    "        q=2\n",
    "    elif seats[0][:2]==\"SL\":\n",
    "        q=3\n",
    "    seat_update(seats,q,matrix,\"add\")\n",
    "    print(\"your ticket is succesfully canceled\")"
   ]
  },
  {
   "cell_type": "code",
   "execution_count": 26,
   "metadata": {},
   "outputs": [
    {
     "name": "stdout",
     "output_type": "stream",
     "text": [
      "--------------------------------------------------Welcome to Railway Reservation Portal----------------------------------------------\n",
      "-------------------------------------------------------------------------------------------------------------------------------------\n",
      "Choose one of the following option:-\n",
      "1.Book Ticket\n",
      "2.Cancel Ticket\n",
      "3.View your booking \n",
      "4.Check seat availibity\n",
      "Option = 1\n",
      "\t1.s1\n",
      "\t2.s2\n",
      "\t3.s3\n",
      "\t4.s4\n",
      "\t5.s5\n",
      "\t6.s3\n",
      "enter the starting location\n",
      "5\n",
      "enter the destination location\n",
      "3\n",
      "three classes of seats are aviable :\n",
      "1.A1\n",
      "2.A2\n",
      "3.SL\n",
      "enter your choice\n",
      "1\n",
      "enter the number of seats to be booked\n",
      "3\n"
     ]
    },
    {
     "ename": "UnboundLocalError",
     "evalue": "local variable 'x' referenced before assignment",
     "output_type": "error",
     "traceback": [
      "\u001b[1;31m---------------------------------------------------------------------------\u001b[0m",
      "\u001b[1;31mUnboundLocalError\u001b[0m                         Traceback (most recent call last)",
      "\u001b[1;32m<ipython-input-26-4b9cd6482ad3>\u001b[0m in \u001b[0;36m<module>\u001b[1;34m()\u001b[0m\n\u001b[0;32m     23\u001b[0m         \u001b[0mprint\u001b[0m\u001b[1;33m(\u001b[0m\u001b[1;34m\"the no of seates remaining in the A2 class =\"\u001b[0m\u001b[1;33m,\u001b[0m\u001b[0mcheck_seat_availabilty\u001b[0m\u001b[1;33m(\u001b[0m\u001b[1;36m2\u001b[0m\u001b[1;33m,\u001b[0m\u001b[0mx\u001b[0m\u001b[1;33m)\u001b[0m\u001b[1;33m)\u001b[0m\u001b[1;33m\u001b[0m\u001b[0m\n\u001b[0;32m     24\u001b[0m         \u001b[0mprint\u001b[0m\u001b[1;33m(\u001b[0m\u001b[1;34m\"the no of seates remaining in the SL class =\"\u001b[0m\u001b[1;33m,\u001b[0m\u001b[0mcheck_seat_availabilty\u001b[0m\u001b[1;33m(\u001b[0m\u001b[1;36m3\u001b[0m\u001b[1;33m,\u001b[0m\u001b[0mx\u001b[0m\u001b[1;33m)\u001b[0m\u001b[1;33m)\u001b[0m\u001b[1;33m\u001b[0m\u001b[0m\n\u001b[1;32m---> 25\u001b[1;33m \u001b[0mmenu\u001b[0m\u001b[1;33m(\u001b[0m\u001b[1;33m)\u001b[0m\u001b[1;33m\u001b[0m\u001b[0m\n\u001b[0m",
      "\u001b[1;32m<ipython-input-26-4b9cd6482ad3>\u001b[0m in \u001b[0;36mmenu\u001b[1;34m()\u001b[0m\n\u001b[0;32m     13\u001b[0m         \u001b[0mmenu\u001b[0m\u001b[1;33m(\u001b[0m\u001b[1;33m)\u001b[0m\u001b[1;33m\u001b[0m\u001b[0m\n\u001b[0;32m     14\u001b[0m     \u001b[1;32mif\u001b[0m \u001b[0moption\u001b[0m \u001b[1;33m==\u001b[0m \u001b[1;36m1\u001b[0m\u001b[1;33m:\u001b[0m\u001b[1;33m\u001b[0m\u001b[0m\n\u001b[1;32m---> 15\u001b[1;33m         \u001b[0mbook_ticket\u001b[0m\u001b[1;33m(\u001b[0m\u001b[1;33m)\u001b[0m\u001b[1;33m\u001b[0m\u001b[0m\n\u001b[0m\u001b[0;32m     16\u001b[0m     \u001b[1;32melif\u001b[0m \u001b[0moption\u001b[0m \u001b[1;33m==\u001b[0m \u001b[1;36m2\u001b[0m\u001b[1;33m:\u001b[0m\u001b[1;33m\u001b[0m\u001b[0m\n\u001b[0;32m     17\u001b[0m         \u001b[0mcancel_ticket\u001b[0m\u001b[1;33m(\u001b[0m\u001b[1;33m)\u001b[0m\u001b[1;33m\u001b[0m\u001b[0m\n",
      "\u001b[1;32m<ipython-input-19-80fb44380770>\u001b[0m in \u001b[0;36mbook_ticket\u001b[1;34m()\u001b[0m\n\u001b[0;32m      8\u001b[0m     \u001b[0msd_tuple\u001b[0m\u001b[1;33m=\u001b[0m\u001b[1;33m(\u001b[0m\u001b[0masd\u001b[0m\u001b[1;33m(\u001b[0m\u001b[0ms\u001b[0m\u001b[1;33m[\u001b[0m\u001b[1;36m0\u001b[0m\u001b[1;33m]\u001b[0m\u001b[1;33m)\u001b[0m\u001b[1;33m,\u001b[0m\u001b[0masd\u001b[0m\u001b[1;33m(\u001b[0m\u001b[0ms\u001b[0m\u001b[1;33m[\u001b[0m\u001b[1;36m1\u001b[0m\u001b[1;33m]\u001b[0m\u001b[1;33m)\u001b[0m\u001b[1;33m)\u001b[0m\u001b[1;33m\u001b[0m\u001b[0m\n\u001b[0;32m      9\u001b[0m     \u001b[0mmatrix\u001b[0m\u001b[1;33m=\u001b[0m\u001b[0mzxc\u001b[0m\u001b[1;33m(\u001b[0m\u001b[0msd_tuple\u001b[0m\u001b[1;33m,\u001b[0m\u001b[1;36m1\u001b[0m\u001b[1;33m)\u001b[0m\u001b[1;33m\u001b[0m\u001b[0m\n\u001b[1;32m---> 10\u001b[1;33m     \u001b[0mseat_class_quantity_stop\u001b[0m\u001b[1;33m=\u001b[0m\u001b[0mselects\u001b[0m\u001b[1;33m(\u001b[0m\u001b[0mmatrix\u001b[0m\u001b[1;33m)\u001b[0m\u001b[1;33m\u001b[0m\u001b[0m\n\u001b[0m\u001b[0;32m     11\u001b[0m     \u001b[0mseat\u001b[0m\u001b[1;33m=\u001b[0m\u001b[0mseat_selection\u001b[0m\u001b[1;33m(\u001b[0m\u001b[0mseat_class_quantity_stop\u001b[0m\u001b[1;33m[\u001b[0m\u001b[1;36m0\u001b[0m\u001b[1;33m]\u001b[0m\u001b[1;33m,\u001b[0m\u001b[0mseat_class_quantity_stop\u001b[0m\u001b[1;33m[\u001b[0m\u001b[1;36m1\u001b[0m\u001b[1;33m]\u001b[0m\u001b[1;33m,\u001b[0m\u001b[0mseat_class_quantity_stop\u001b[0m\u001b[1;33m[\u001b[0m\u001b[1;36m2\u001b[0m\u001b[1;33m]\u001b[0m\u001b[1;33m)\u001b[0m\u001b[1;33m\u001b[0m\u001b[0m\n\u001b[0;32m     12\u001b[0m     \u001b[0mseat_update\u001b[0m\u001b[1;33m(\u001b[0m\u001b[0mseat\u001b[0m\u001b[1;33m,\u001b[0m\u001b[0mseat_class_quantity_stop\u001b[0m\u001b[1;33m[\u001b[0m\u001b[1;36m0\u001b[0m\u001b[1;33m]\u001b[0m\u001b[1;33m,\u001b[0m\u001b[0mmatrix\u001b[0m\u001b[1;33m,\u001b[0m\u001b[1;34m\"remove\"\u001b[0m\u001b[1;33m)\u001b[0m\u001b[1;33m\u001b[0m\u001b[0m\n",
      "\u001b[1;32m<ipython-input-16-3bd6fabcf229>\u001b[0m in \u001b[0;36mselects\u001b[1;34m(q)\u001b[0m\n\u001b[0;32m     14\u001b[0m         \u001b[0mprint_red\u001b[0m\u001b[1;33m(\u001b[0m\u001b[1;34m\"ERROR   INVALID INPUT\"\u001b[0m\u001b[1;33m)\u001b[0m\u001b[1;33m\u001b[0m\u001b[0m\n\u001b[0;32m     15\u001b[0m         \u001b[0mselects\u001b[0m\u001b[1;33m(\u001b[0m\u001b[0mq\u001b[0m\u001b[1;33m)\u001b[0m\u001b[1;33m\u001b[0m\u001b[0m\n\u001b[1;32m---> 16\u001b[1;33m     \u001b[0mprint_green\u001b[0m\u001b[1;33m(\u001b[0m\u001b[1;34m\"the no of seates remaining are : \"\u001b[0m\u001b[1;33m,\u001b[0m\u001b[0mcheck_seat_availabilty\u001b[0m\u001b[1;33m(\u001b[0m\u001b[0ma\u001b[0m\u001b[1;33m,\u001b[0m\u001b[0mq\u001b[0m\u001b[1;33m)\u001b[0m\u001b[1;33m[\u001b[0m\u001b[1;36m0\u001b[0m\u001b[1;33m]\u001b[0m\u001b[1;33m,\u001b[0m\u001b[0mend\u001b[0m\u001b[1;33m=\u001b[0m\u001b[1;34m\"\\n\"\u001b[0m\u001b[1;33m)\u001b[0m\u001b[1;33m\u001b[0m\u001b[0m\n\u001b[0m\u001b[0;32m     17\u001b[0m     \u001b[1;32mif\u001b[0m \u001b[0ms\u001b[0m\u001b[1;33m>\u001b[0m\u001b[0mcheck_seat_availabilty\u001b[0m\u001b[1;33m(\u001b[0m\u001b[0ma\u001b[0m\u001b[1;33m,\u001b[0m\u001b[0mq\u001b[0m\u001b[1;33m)\u001b[0m\u001b[1;33m[\u001b[0m\u001b[1;36m0\u001b[0m\u001b[1;33m]\u001b[0m\u001b[1;33m:\u001b[0m\u001b[1;33m\u001b[0m\u001b[0m\n\u001b[0;32m     18\u001b[0m         \u001b[0mprint_yellow\u001b[0m\u001b[1;33m(\u001b[0m\u001b[1;34m\"the aviable seats are less than the number of seats to be booked\"\u001b[0m\u001b[1;33m)\u001b[0m\u001b[1;33m\u001b[0m\u001b[0m\n",
      "\u001b[1;32m<ipython-input-12-b0619fa1e93c>\u001b[0m in \u001b[0;36mcheck_seat_availabilty\u001b[1;34m(q, x)\u001b[0m\n\u001b[0;32m     11\u001b[0m             \u001b[0ma\u001b[0m\u001b[1;33m.\u001b[0m\u001b[0mappend\u001b[0m\u001b[1;33m(\u001b[0m\u001b[0mb\u001b[0m\u001b[1;33m)\u001b[0m\u001b[1;33m\u001b[0m\u001b[0m\n\u001b[0;32m     12\u001b[0m     \u001b[0mt\u001b[0m\u001b[1;33m.\u001b[0m\u001b[0mclose\u001b[0m\u001b[1;33m(\u001b[0m\u001b[1;33m)\u001b[0m\u001b[1;33m\u001b[0m\u001b[0m\n\u001b[1;32m---> 13\u001b[1;33m     \u001b[0mavailability\u001b[0m\u001b[1;33m(\u001b[0m\u001b[0mq\u001b[0m\u001b[1;33m,\u001b[0m\u001b[0mx\u001b[0m\u001b[1;33m)\u001b[0m\u001b[1;33m\u001b[0m\u001b[0m\n\u001b[0m\u001b[0;32m     14\u001b[0m     \u001b[1;32mreturn\u001b[0m \u001b[0mmin\u001b[0m\u001b[1;33m(\u001b[0m\u001b[0ma\u001b[0m\u001b[1;33m)\u001b[0m\u001b[1;33m,\u001b[0m\u001b[0mx\u001b[0m\u001b[1;33m\u001b[0m\u001b[0m\n",
      "\u001b[1;32m<ipython-input-11-caa699d49736>\u001b[0m in \u001b[0;36mavailability\u001b[1;34m(s, l)\u001b[0m\n\u001b[0;32m     25\u001b[0m             \u001b[0mprint\u001b[0m\u001b[1;33m(\u001b[0m\u001b[1;33m)\u001b[0m\u001b[1;33m\u001b[0m\u001b[0m\n\u001b[0;32m     26\u001b[0m     \u001b[1;32mif\u001b[0m \u001b[0ms\u001b[0m\u001b[1;33m==\u001b[0m\u001b[1;36m1\u001b[0m\u001b[1;33m:\u001b[0m\u001b[1;33m\u001b[0m\u001b[0m\n\u001b[1;32m---> 27\u001b[1;33m         \u001b[0masd\u001b[0m\u001b[1;33m(\u001b[0m\u001b[0mx\u001b[0m\u001b[1;33m,\u001b[0m\u001b[0ma\u001b[0m\u001b[1;33m)\u001b[0m\u001b[1;33m\u001b[0m\u001b[0m\n\u001b[0m\u001b[0;32m     28\u001b[0m     \u001b[1;32melif\u001b[0m \u001b[0ms\u001b[0m\u001b[1;33m==\u001b[0m\u001b[1;36m2\u001b[0m\u001b[1;33m:\u001b[0m\u001b[1;33m\u001b[0m\u001b[0m\n\u001b[0;32m     29\u001b[0m         \u001b[0masd\u001b[0m\u001b[1;33m(\u001b[0m\u001b[0mx\u001b[0m\u001b[1;33m,\u001b[0m\u001b[0mb\u001b[0m\u001b[1;33m)\u001b[0m\u001b[1;33m\u001b[0m\u001b[0m\n",
      "\u001b[1;31mUnboundLocalError\u001b[0m: local variable 'x' referenced before assignment"
     ]
    }
   ],
   "source": [
    "print(\"--------------------------------------------------Welcome to Railway Reservation Portal----------------------------------------------\")\n",
    "print(\"-------------------------------------------------------------------------------------------------------------------------------------\")\n",
    "def menu():\n",
    "    print(\"Choose one of the following option:-\")\n",
    "    print(\"1.Book Ticket\")#done?ticket remaining\n",
    "    print(\"2.Cancel Ticket\")#done\n",
    "    print(\"3.View your booking \")#done? name ? contact number ?\n",
    "    print(\"4.Check seat availibity\")#done\n",
    "    try:\n",
    "        option = int(input(\"Option = \"))\n",
    "    except ValueError:\n",
    "        print(\"\\n\\nPlease enter a valid option.\\n\\n\")\n",
    "        menu()\n",
    "    if option == 1:\n",
    "        book_ticket()\n",
    "    elif option == 2:\n",
    "        cancel_ticket()\n",
    "    elif option == 3:\n",
    "        check_booking()\n",
    "    elif option == 4:#sep print required s d matrix required\n",
    "        x=zxc(option_tic(),0)\n",
    "        print(\"the no of seates remaining in the A1 class =\",check_seat_availabilty(1,x))\n",
    "        print(\"the no of seates remaining in the A2 class =\",check_seat_availabilty(2,x))\n",
    "        print(\"the no of seates remaining in the SL class =\",check_seat_availabilty(3,x))\n",
    "menu()"
   ]
  },
  {
   "cell_type": "code",
   "execution_count": null,
   "metadata": {},
   "outputs": [],
   "source": []
  }
 ],
 "metadata": {
  "kernelspec": {
   "display_name": "Python 3",
   "language": "python",
   "name": "python3"
  },
  "language_info": {
   "codemirror_mode": {
    "name": "ipython",
    "version": 3
   },
   "file_extension": ".py",
   "mimetype": "text/x-python",
   "name": "python",
   "nbconvert_exporter": "python",
   "pygments_lexer": "ipython3",
   "version": "3.6.6"
  }
 },
 "nbformat": 4,
 "nbformat_minor": 2
}
